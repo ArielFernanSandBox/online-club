{
 "cells": [
  {
   "cell_type": "markdown",
   "metadata": {
    "colab_type": "text",
    "id": "REOl68m_MX9W"
   },
   "source": [
    "<img src=\"https://scontent.fsrz1-1.fna.fbcdn.net/v/t1.0-9/91144856_2343166949314703_8051363087699148800_n.png?_nc_cat=106&_nc_sid=85a577&_nc_ohc=SlbYDBo93RYAX8tAEj1&_nc_ht=scontent.fsrz1-1.fna&oh=22748d191ed06ae75b834ce753457c6f&oe=5EAD5014\" display=\"block\" align=\"center\" width=\"200\" >"
   ]
  },
  {
   "cell_type": "markdown",
   "metadata": {
    "colab_type": "text",
    "id": "hsaj8FRoIsFV",
    "toc-hr-collapsed": true,
    "toc-nb-collapsed": true
   },
   "source": [
    "# Tipos de datos # 1\n",
    "Todos los valores de datos en Python son objetos, y cada objeto, o valor, tiene \"un tipo\".\n",
    "Tener en cuenta que, cada tipo de objeto determina qué operaciones va a soportar el objeto y, por lo tanto, qué operaciones se van a poder realizar con esos valores de los datos.\n",
    "\n",
    "*   Numéricos (int, float)\n",
    "*   Texto (str)\n",
    "*   Falso / Verdadero (bool)\n",
    "\n"
   ]
  },
  {
   "cell_type": "markdown",
   "metadata": {
    "colab_type": "text",
    "id": "u2OXGk-eJ0OK",
    "toc-hr-collapsed": true,
    "toc-nb-collapsed": true
   },
   "source": [
    "### Sintaxis"
   ]
  },
  {
   "cell_type": "code",
   "execution_count": null,
   "metadata": {
    "colab": {},
    "colab_type": "code",
    "id": "ITrXPSaqInP8"
   },
   "outputs": [],
   "source": [
    "```\n",
    "# La sintaxis de comentarios va seguido del simbolo \"#\"\n",
    "\n",
    "# Entero\n",
    "30\n",
    "\n",
    "# Decimal\n",
    "3.4\n",
    "\n",
    "# Cadena de texto\n",
    "\"Pedro\"\n",
    "\n",
    "# Boleano\n",
    "True\n",
    "False\n",
    "```"
   ]
  },
  {
   "cell_type": "markdown",
   "metadata": {
    "colab_type": "text",
    "id": "dbxoQpnzKQwy",
    "toc-hr-collapsed": true,
    "toc-nb-collapsed": true
   },
   "source": [
    "### **type()** : Verificar el tipo de dato"
   ]
  },
  {
   "cell_type": "markdown",
   "metadata": {
    "colab_type": "text",
    "id": "-nUJ3uD0bLfE"
   },
   "source": [
    "Utilizamos esta función para devolver el tipo de dato u objeto que pasamos dentro de los paréntesis"
   ]
  },
  {
   "cell_type": "code",
   "execution_count": null,
   "metadata": {
    "colab": {},
    "colab_type": "code",
    "id": "W7q-QP5fInWS"
   },
   "outputs": [],
   "source": [
    "# Devuelve -> int\n",
    "type(30)"
   ]
  },
  {
   "cell_type": "code",
   "execution_count": null,
   "metadata": {
    "colab": {},
    "colab_type": "code",
    "id": "NxNdsCsAInZQ"
   },
   "outputs": [],
   "source": [
    "# Devuelve -> float\n",
    "type(3.14)"
   ]
  },
  {
   "cell_type": "code",
   "execution_count": null,
   "metadata": {
    "colab": {},
    "colab_type": "code",
    "id": "2P1e9qxLKo6p"
   },
   "outputs": [],
   "source": [
    "# Devuelve -> str\n",
    "type(\"Pedro\")"
   ]
  },
  {
   "cell_type": "code",
   "execution_count": null,
   "metadata": {
    "colab": {},
    "colab_type": "code",
    "id": "H8QOAjOYKwo4"
   },
   "outputs": [],
   "source": [
    "# Devuelve -> str\n",
    "type('Pedro')"
   ]
  },
  {
   "cell_type": "code",
   "execution_count": null,
   "metadata": {
    "colab": {},
    "colab_type": "code",
    "id": "AQvyKIYUKpAD"
   },
   "outputs": [],
   "source": [
    "# Devuelve -> bool\n",
    "type(True)"
   ]
  },
  {
   "cell_type": "code",
   "execution_count": null,
   "metadata": {
    "colab": {},
    "colab_type": "code",
    "id": "tMdsRuspKpC6"
   },
   "outputs": [],
   "source": [
    "# Devuelve -> bool\n",
    "type(False)"
   ]
  },
  {
   "cell_type": "markdown",
   "metadata": {
    "colab_type": "text",
    "id": "BWxQF0iGLNas",
    "toc-hr-collapsed": true,
    "toc-nb-collapsed": true
   },
   "source": [
    "### **Variables**\n",
    "Para declarar una variable escribimos primero el nombre de la variable seguido de **\"=\"** (simbolo igual) y por ultimo escribimos el valor que queremos guardar."
   ]
  },
  {
   "cell_type": "code",
   "execution_count": null,
   "metadata": {
    "colab": {},
    "colab_type": "code",
    "id": "Xx3T4tQOKpFe"
   },
   "outputs": [],
   "source": [
    "# Es muy recomendable escribir las variables en minusculas\n",
    "# y si el nombre de la variable tiene mas de una palabra,\n",
    "# separarlos por \"_\" guion bajo.\n",
    "\n",
    "mi_variable = 34"
   ]
  },
  {
   "cell_type": "markdown",
   "metadata": {
    "colab_type": "text",
    "id": "imoO5WLCIJ3T"
   },
   "source": [
    "|<img src=\"http://drive.google.com/uc?export=view&id=1GrOvcZF7LzxYcEa0_C1xgfXWmDxgKu05\" width=\"800\">|Una variable es como una etiqueta que apunta a una **caja** esta **caja** almacena el valor de la variable y el tipo de dato. ```a = \"pepe\"```|\n",
    "|---|---|"
   ]
  },
  {
   "cell_type": "code",
   "execution_count": null,
   "metadata": {
    "colab": {},
    "colab_type": "code",
    "id": "x8z6ywecsf44"
   },
   "outputs": [],
   "source": [
    "# Declaramos una variable con cualquier valor\n",
    "a = \"pepe\""
   ]
  },
  {
   "cell_type": "code",
   "execution_count": null,
   "metadata": {
    "colab": {},
    "colab_type": "code",
    "id": "84y5F-cVWU1n"
   },
   "outputs": [],
   "source": [
    "# Obtenemos el valor de la variable que esta en la caja con etiqueta variable_1\n",
    "a"
   ]
  },
  {
   "cell_type": "code",
   "execution_count": null,
   "metadata": {
    "colab": {},
    "colab_type": "code",
    "id": "XwW6zTW2V0wv"
   },
   "outputs": [],
   "source": [
    "# Obtenemos el tipo de dato que esta en la caja\n",
    "type(a)"
   ]
  },
  {
   "cell_type": "markdown",
   "metadata": {
    "colab_type": "text",
    "id": "Xr1nwUB0a3e6",
    "toc-hr-collapsed": true,
    "toc-nb-collapsed": true
   },
   "source": [
    "### **input()** : Entrada de datos"
   ]
  },
  {
   "cell_type": "markdown",
   "metadata": {
    "colab_type": "text",
    "id": "7wAg5WMxbPi1"
   },
   "source": [
    "Si queremos recibir valores externos dentro de nuestra lógica y/o algoritmo que estamos desarrollando utilizamos la siguiente función. Esto nos pedirá datos por consola."
   ]
  },
  {
   "cell_type": "code",
   "execution_count": null,
   "metadata": {
    "colab": {},
    "colab_type": "code",
    "id": "uLdpUJCYaL6g"
   },
   "outputs": [],
   "source": [
    "input()"
   ]
  },
  {
   "cell_type": "markdown",
   "metadata": {
    "colab_type": "text",
    "id": "FGLnKWPSbw5i"
   },
   "source": [
    "Si queremos mostrar un mensaje al momento de recibir valores mediante esta funcion entonces ponemos entre comillas el mensaje dentro de los paréntesis "
   ]
  },
  {
   "cell_type": "code",
   "execution_count": null,
   "metadata": {
    "colab": {},
    "colab_type": "code",
    "id": "Cvox8-eOZY-_"
   },
   "outputs": [],
   "source": [
    "input(\"Escribe cualquier dato\")"
   ]
  },
  {
   "cell_type": "markdown",
   "metadata": {
    "colab_type": "text",
    "id": "ksoboMpBcZmH"
   },
   "source": [
    "Si queremos almacenar en una variable el valor que recibimos de esta función ```input()``` entonces declaramos una variable que sea igual al valor que se recibe de la función"
   ]
  },
  {
   "cell_type": "code",
   "execution_count": null,
   "metadata": {
    "colab": {},
    "colab_type": "code",
    "id": "Cc6lLRw3ZY53"
   },
   "outputs": [],
   "source": [
    "cualquier_dato = input(\"Escribe cualquier dato\")"
   ]
  },
  {
   "cell_type": "code",
   "execution_count": null,
   "metadata": {
    "colab": {},
    "colab_type": "code",
    "id": "0we2HiJzIJ3r"
   },
   "outputs": [],
   "source": [
    "cualquier_dato"
   ]
  },
  {
   "cell_type": "markdown",
   "metadata": {
    "colab_type": "text",
    "id": "R_ocCu65drli",
    "toc-hr-collapsed": true,
    "toc-nb-collapsed": true
   },
   "source": [
    "### **print()** : Salida de datos"
   ]
  },
  {
   "cell_type": "markdown",
   "metadata": {
    "colab_type": "text",
    "id": "T2tl4eizdyfh"
   },
   "source": [
    "Si queremos mostrar algún tipo de dato sea \"str\",\"int\",\"float\" o \"bool\", utilizamos esta función. Y pasamos dentro de los paréntesis el valor que queremos mostrar.\n"
   ]
  },
  {
   "cell_type": "code",
   "execution_count": null,
   "metadata": {
    "colab": {},
    "colab_type": "code",
    "id": "XjjVZ0MLcstC"
   },
   "outputs": [],
   "source": [
    "# Mostrara/imprimira el valor dentro de los parentesis\n",
    "print(\"Quiero mostrar este mensaje\")"
   ]
  },
  {
   "cell_type": "code",
   "execution_count": null,
   "metadata": {
    "colab": {},
    "colab_type": "code",
    "id": "GIfudj3rIJ3y"
   },
   "outputs": [],
   "source": [
    "# Mostrara/Imprimira el valor de la variable que declaramos anterirormente llamada cualquier_dato\n",
    "print(cualquier_dato)"
   ]
  },
  {
   "cell_type": "markdown",
   "metadata": {
    "colab_type": "text",
    "id": "FQCECZ33eXhs"
   },
   "source": [
    "Declaramos otra variable para mostrar/imprimir :"
   ]
  },
  {
   "cell_type": "code",
   "execution_count": null,
   "metadata": {
    "colab": {},
    "colab_type": "code",
    "id": "EZcUKgcocsv5"
   },
   "outputs": [],
   "source": [
    "# Declarando una variable cualquiera\n",
    "mi_variable = 8907\n",
    "\n",
    "# Mostramos la variable\n",
    "print(mi_variable)"
   ]
  },
  {
   "cell_type": "markdown",
   "metadata": {
    "colab_type": "text",
    "id": "QOyzoiNBezqE"
   },
   "source": [
    "Si queremos mostrar un mensaje concatenado con una variable :"
   ]
  },
  {
   "cell_type": "code",
   "execution_count": null,
   "metadata": {
    "colab": {},
    "colab_type": "code",
    "id": "-6LqX6X5cs3r"
   },
   "outputs": [],
   "source": [
    "# Mostramos la variable\n",
    "print(\"El valor de mi variable es :\", mi_variable)"
   ]
  },
  {
   "cell_type": "markdown",
   "metadata": {
    "colab_type": "text",
    "id": "_DAXP6DsfE3r"
   },
   "source": [
    "Si queremos mostrar un texto con mas contenido y concatenado con mucha de mis variables.\n",
    "Probablemente tendremos que escribir muchas veces la funcion ```print()```\n",
    "\n",
    "```\n",
    "print(\"El valor de mi variable 1 es :\", mi_variable_1)\n",
    "print(\"El valor de mi variable 2 es :\", mi_variable_2)\n",
    "print(\"El valor de mi variable 3 es :\", mi_variable_3)\n",
    "```\n",
    "\n",
    "Existe una mejor manera para evitar escribir muchas veces la funcion ```print()```.\n",
    "Y para ello utilizamos **f strings**, esto nos ayuda a concatenar facilmente las variables o código con el mensaje que queremos mostrar.\n",
    "\n",
    "Para ello utilizamos la misma síntaxis que utilizamos al momento de escribir una cadena de texto o un 'str' la unica diferencia es que escribimos una ```f\"Esta es una cadena f\"```\n",
    "\n"
   ]
  },
  {
   "cell_type": "markdown",
   "metadata": {
    "colab_type": "text",
    "id": "aBpNT4JkgBJr"
   },
   "source": [
    "#### **print(f\"\")** : salida de datos con muchas variables concatenadas o unidas."
   ]
  },
  {
   "cell_type": "code",
   "execution_count": null,
   "metadata": {
    "colab": {},
    "colab_type": "code",
    "id": "jVI1mvCScs7o"
   },
   "outputs": [],
   "source": [
    "# Declaramos las variables \n",
    "mi_variable_1 = 45\n",
    "mi_variable_2 = \"Hola que tal\"\n",
    "mi_variable_3 = 3.14"
   ]
  },
  {
   "cell_type": "markdown",
   "metadata": {
    "colab_type": "text",
    "id": "KLtNZewjgyZu"
   },
   "source": [
    "Ponemos entre llaves las variables que queremos mostrar."
   ]
  },
  {
   "cell_type": "code",
   "execution_count": null,
   "metadata": {
    "colab": {},
    "colab_type": "code",
    "id": "JZJtlIuWgxE4"
   },
   "outputs": [],
   "source": [
    "print(f\"El valor de la variable 1 es {mi_variable_1}\\\n",
    "\\nEl valor de la variable 2 es {mi_variable_2}\\\n",
    "\\nEl valor de la variable 3 es {mi_variable_3}\")"
   ]
  },
  {
   "cell_type": "markdown",
   "metadata": {
    "colab_type": "text",
    "id": "KN2lSkNKhcRh"
   },
   "source": [
    "El simbolo ```\\``` significa que continuaremos escribiendo codigo en la siguiente linea y ```\\n``` significa un salto de linea."
   ]
  },
  {
   "cell_type": "markdown",
   "metadata": {
    "colab_type": "text",
    "id": "ZVGTeRszh-Fc",
    "toc-hr-collapsed": true,
    "toc-nb-collapsed": true
   },
   "source": [
    "## 1) Tipos Numericos"
   ]
  },
  {
   "cell_type": "markdown",
   "metadata": {
    "colab_type": "text",
    "id": "L5067d44i8L2"
   },
   "source": [
    "Ya que existen dos tipos de datos que son numericos \"***int***\" y \"***float***\" al ser de tipo numericos no existe ningún problema al momento de realizar operaciones entre ambos tipos."
   ]
  },
  {
   "cell_type": "code",
   "execution_count": null,
   "metadata": {
    "colab": {},
    "colab_type": "code",
    "id": "RlQdmALgwEya"
   },
   "outputs": [],
   "source": [
    "num_1 = 7\n",
    "num_2 = 3.0"
   ]
  },
  {
   "cell_type": "code",
   "execution_count": null,
   "metadata": {
    "colab": {},
    "colab_type": "code",
    "id": "JB6uIPUlwS2A"
   },
   "outputs": [],
   "source": [
    "suma = num_1 + num_2"
   ]
  },
  {
   "cell_type": "code",
   "execution_count": null,
   "metadata": {
    "colab": {},
    "colab_type": "code",
    "id": "t9zS00iqwiQR"
   },
   "outputs": [],
   "source": [
    "resta = num_1 - num_2"
   ]
  },
  {
   "cell_type": "code",
   "execution_count": null,
   "metadata": {
    "colab": {},
    "colab_type": "code",
    "id": "XNE9plzjwmHf"
   },
   "outputs": [],
   "source": [
    "multiplicacion = num_1 * num_2"
   ]
  },
  {
   "cell_type": "code",
   "execution_count": null,
   "metadata": {
    "colab": {},
    "colab_type": "code",
    "id": "CMJ7XgwzwqWO"
   },
   "outputs": [],
   "source": [
    "division = num_1 / num_2"
   ]
  },
  {
   "cell_type": "code",
   "execution_count": null,
   "metadata": {
    "colab": {},
    "colab_type": "code",
    "id": "mv4Yf9D8wzx_"
   },
   "outputs": [],
   "source": [
    "cociente = num_1 // num_2"
   ]
  },
  {
   "cell_type": "code",
   "execution_count": null,
   "metadata": {
    "colab": {},
    "colab_type": "code",
    "id": "60qQrkU9xIZ-"
   },
   "outputs": [],
   "source": [
    "residuo = num_1 % num_2"
   ]
  },
  {
   "cell_type": "code",
   "execution_count": null,
   "metadata": {
    "colab": {},
    "colab_type": "code",
    "id": "dijd2a35xNyp"
   },
   "outputs": [],
   "source": [
    "potencia = num_1 ** num_2"
   ]
  },
  {
   "cell_type": "code",
   "execution_count": null,
   "metadata": {
    "colab": {},
    "colab_type": "code",
    "id": "yhLNuLzZxXJJ"
   },
   "outputs": [],
   "source": [
    "print(f\"suma : {suma} \\nresta : {resta} \\nmultiplicacion : {multiplicacion}\\\n",
    "\\ndivision : {division} \\ncociente : {cociente} \\nresiduo : {residuo} \\npotencia : {potencia}\")"
   ]
  },
  {
   "cell_type": "markdown",
   "metadata": {
    "colab_type": "text",
    "id": "tlMSFML1kdJp",
    "toc-hr-collapsed": true,
    "toc-nb-collapsed": true
   },
   "source": [
    "## 2) Tipos Booleanos"
   ]
  },
  {
   "cell_type": "code",
   "execution_count": null,
   "metadata": {
    "colab": {},
    "colab_type": "code",
    "id": "fxHGm051zt7Z"
   },
   "outputs": [],
   "source": [
    "# Declaramos estas variables para compararlas con los operadores de comparacion\n",
    "variable_1 = 19\n",
    "variable_2 = 1"
   ]
  },
  {
   "cell_type": "markdown",
   "metadata": {
    "colab_type": "text",
    "id": "AgpEx-alljsl"
   },
   "source": [
    "### Operadores de comparación\n",
    "Los operadores de comparación nos ayudan a comparar dos o mas expresiones y nos devuelve ***True*** si cumplen dicha condición, nos devuelve ***False*** si no cumple."
   ]
  },
  {
   "cell_type": "code",
   "execution_count": null,
   "metadata": {
    "colab": {},
    "colab_type": "code",
    "id": "c7zHFAJU5Scx"
   },
   "outputs": [],
   "source": [
    "# Mayor que\n",
    "variable_1 > variable_2"
   ]
  },
  {
   "cell_type": "code",
   "execution_count": null,
   "metadata": {
    "colab": {},
    "colab_type": "code",
    "id": "eWjr8iwdmD3_"
   },
   "outputs": [],
   "source": [
    "# Menor que\n",
    "variable_1 < variable_2"
   ]
  },
  {
   "cell_type": "code",
   "execution_count": null,
   "metadata": {
    "colab": {},
    "colab_type": "code",
    "id": "_VyCYDeFmGMq"
   },
   "outputs": [],
   "source": [
    "# Menor o igual que\n",
    "variable_1 <= variable_2"
   ]
  },
  {
   "cell_type": "code",
   "execution_count": null,
   "metadata": {
    "colab": {},
    "colab_type": "code",
    "id": "_VhmgeHpmIXX"
   },
   "outputs": [],
   "source": [
    "# Mayor o igual que\n",
    "variable_1 >= variable_2"
   ]
  },
  {
   "cell_type": "code",
   "execution_count": null,
   "metadata": {
    "colab": {},
    "colab_type": "code",
    "id": "fBX6zolVmK9a"
   },
   "outputs": [],
   "source": [
    "# Igual que\n",
    "variable_1 == variable_2"
   ]
  },
  {
   "cell_type": "code",
   "execution_count": null,
   "metadata": {
    "colab": {},
    "colab_type": "code",
    "id": "PUkhdoMsmNFT"
   },
   "outputs": [],
   "source": [
    "# Diferente de \n",
    "variable_1 != variable_2"
   ]
  },
  {
   "cell_type": "markdown",
   "metadata": {
    "colab_type": "text",
    "id": "xIb4VE6ymuoA"
   },
   "source": [
    "### Operadores logicos\n",
    "Estos operadores nos ayudan a comparar solo entre expresiones que sean ```True``` o ```False```. \n",
    "Los operadores lógicos más conocidos y más utilizados son los siguientes.\n"
   ]
  },
  {
   "cell_type": "markdown",
   "metadata": {
    "colab_type": "text",
    "id": "3rVwre6qq77Q"
   },
   "source": [
    "#### **AND**\n",
    "<table align=\"left\">\n",
    "    <tr>\n",
    "        <th>Var 1</th>\n",
    "        <th>Var 2</th>\n",
    "        <th>Resultado</th>\n",
    "    </tr>\n",
    "    <tr>\n",
    "        <td>True</td>\n",
    "        <td>True</td>\n",
    "        <td>True</td>\n",
    "    </tr>\n",
    "        <tr>\n",
    "        <td>True</td>\n",
    "        <td>False</td>\n",
    "        <td>False</td>\n",
    "    </tr>\n",
    "        <tr>\n",
    "        <td>False</td>\n",
    "        <td>True</td>\n",
    "        <td>False</td>\n",
    "    </tr>\n",
    "        <tr>\n",
    "        <td>False</td>\n",
    "        <td>False</td>\n",
    "        <td>False</td>\n",
    "    </tr>\n",
    "</table>"
   ]
  },
  {
   "cell_type": "code",
   "execution_count": null,
   "metadata": {
    "colab": {},
    "colab_type": "code",
    "id": "WgLIfk676c79"
   },
   "outputs": [],
   "source": [
    "True and True"
   ]
  },
  {
   "cell_type": "markdown",
   "metadata": {
    "colab_type": "text",
    "id": "JRgmrhA10Mn6"
   },
   "source": [
    "#### **OR**\n",
    "<table align=\"left\">\n",
    "    <tr>\n",
    "        <th>Var 1</th>\n",
    "        <th>Var 2</th>\n",
    "        <th>Resultado</th>\n",
    "    </tr>\n",
    "    <tr>\n",
    "        <td>True</td>\n",
    "        <td>True</td>\n",
    "        <td>True</td>\n",
    "    </tr>\n",
    "        <tr>\n",
    "        <td>True</td>\n",
    "        <td>False</td>\n",
    "        <td>True</td>\n",
    "    </tr>\n",
    "        <tr>\n",
    "        <td>False</td>\n",
    "        <td>True</td>\n",
    "        <td>True</td>\n",
    "    </tr>\n",
    "        <tr>\n",
    "        <td>False</td>\n",
    "        <td>False</td>\n",
    "        <td>False</td>\n",
    "    </tr>\n",
    "</table>"
   ]
  },
  {
   "cell_type": "code",
   "execution_count": null,
   "metadata": {
    "colab": {},
    "colab_type": "code",
    "id": "5lRCscdT6hEi"
   },
   "outputs": [],
   "source": [
    "True or False"
   ]
  },
  {
   "cell_type": "markdown",
   "metadata": {
    "colab_type": "text",
    "id": "9QUzEs6K1KvB"
   },
   "source": [
    "#### **NOT**\n",
    "<table align=\"left\">\n",
    "    <tr>\n",
    "        <th>Var </th>\n",
    "        <th>Resultado</th>\n",
    "    </tr>\n",
    "    <tr>\n",
    "        <td>True</td>\n",
    "        <td>False</td>\n",
    "    </tr>\n",
    "    <tr>\n",
    "        <td>False</td>\n",
    "        <td>True</td>\n",
    "    </tr>\n",
    "</table>"
   ]
  },
  {
   "cell_type": "code",
   "execution_count": null,
   "metadata": {
    "colab": {},
    "colab_type": "code",
    "id": "9cK4OD0I6ulZ"
   },
   "outputs": [],
   "source": [
    "not False"
   ]
  },
  {
   "cell_type": "markdown",
   "metadata": {
    "colab_type": "text",
    "id": "Ez5T5EVb2KVO"
   },
   "source": [
    "Practica un poco cambiando el valor de las variables y probando."
   ]
  },
  {
   "cell_type": "code",
   "execution_count": null,
   "metadata": {
    "colab": {},
    "colab_type": "code",
    "id": "k84dW0cC2eb5"
   },
   "outputs": [],
   "source": [
    "a = 5\n",
    "b = 3\n",
    "c = 2\n",
    "d = 1"
   ]
  },
  {
   "cell_type": "code",
   "execution_count": null,
   "metadata": {
    "colab": {},
    "colab_type": "code",
    "id": "__bUGKO0650t"
   },
   "outputs": [],
   "source": [
    "print(a < b or c > d)"
   ]
  },
  {
   "cell_type": "code",
   "execution_count": null,
   "metadata": {
    "colab": {},
    "colab_type": "code",
    "id": "2KoyBoPU2pi3"
   },
   "outputs": [],
   "source": [
    "print(a < b and d <= c)"
   ]
  },
  {
   "cell_type": "markdown",
   "metadata": {
    "colab_type": "text",
    "id": "yw3uwtyL2_1m"
   },
   "source": [
    "Basandonos en el primer ejercicio :\n",
    "```\n",
    "print(a < b or c > d)\n",
    "```\n",
    "\n",
    "Si tienes problemas al entender lo que pasa tal vez es mejor pensar que la primera operacion que se ejecuta dentro de la funcion ```print``` es :\n",
    "```\n",
    "a < b # Esto retorna un booleano sea True o False\n",
    "```\n",
    "luego : \n",
    "\n",
    "```\n",
    "c > d # Esto tambien retorna un booleano sea True o False\n",
    "```\n",
    "por ultimo ya sabiendo el valor booleano de cada operacion sea ```True``` o ```False``` utilizamos el operador logico sea ```and```, ```or``` o ```not``` y nos fijamos en la tabla de operadores logicos.\n",
    "```\n",
    "# Posibles resultados al hacer las operaciones anteriores\n",
    "True or True\n",
    "True or False\n",
    "False or True\n",
    "False or False\n",
    "```"
   ]
  },
  {
   "cell_type": "markdown",
   "metadata": {
    "colab_type": "text",
    "id": "2xKnT9Lq--1Z"
   },
   "source": [
    "## 3) Tipos Strings o Cadenas de texto\n",
    "\n"
   ]
  },
  {
   "cell_type": "markdown",
   "metadata": {
    "colab_type": "text",
    "id": "xZEv7UP9_Jiw"
   },
   "source": [
    "Las cadenas de texto o string pueden estar entre dobles comillas ```\"texto\"```  o comillas simples ```'texto'```"
   ]
  },
  {
   "cell_type": "code",
   "execution_count": null,
   "metadata": {
    "colab": {},
    "colab_type": "code",
    "id": "_7VeIV7B--I3"
   },
   "outputs": [],
   "source": [
    "cadena_comillas_dobles = \"Esto es un string o cadena\"\n",
    "cadena_comillas_simples = 'Esto es un string o cadena'"
   ]
  },
  {
   "cell_type": "markdown",
   "metadata": {
    "colab_type": "text",
    "id": "M1ut-yKJHG-8"
   },
   "source": [
    "### Comillas triples :\n",
    "Estas cadenas de textos con comillas triples son recomendables utilizarlas cuando trabajas con mucho texto como documentos."
   ]
  },
  {
   "cell_type": "code",
   "execution_count": null,
   "metadata": {
    "colab": {},
    "colab_type": "code",
    "id": "fcCct4QFHc_C"
   },
   "outputs": [],
   "source": [
    "cadena_comillas_triples = \"\"\"\n",
    "    Lo que más preocupa es que los afectados son principalmente niños, \n",
    "    que representan el 50% del total de casos y entre el 45% y 50% de los \n",
    "    internados. Esto se ve reflejado en las escuelas, que han comenzado a \n",
    "    registrar un alto ausentismo debido a la epidemia.\n",
    "\n",
    "    Siguiendo las recomendaciones de la Dirección Departamental de \n",
    "    Educación (DDE), los establecimientos escolares están dando tolerancia a \n",
    "    los niños que presentan fiebre y síntomas del mal para que puedan recibir \n",
    "    el tratamiento y reposo necesarios hasta su recuperación.\n",
    "\"\"\""
   ]
  },
  {
   "cell_type": "markdown",
   "metadata": {
    "colab_type": "text",
    "id": "3T5xEk_9IBjT"
   },
   "source": [
    "### Cadenas f\n",
    "Nos ayudan a concatenar con cualquier variable de cualquier tipo de dato lo unico que tenemos que hacer es colocar una ***f*** delante de nuestra cadena de texto sin importar si son simples, dobles o triples comillas. Si queremos concatenar nuestras variables entonces las ponemos entre llaves dentro de las llaves tambien pueden haber operaciones.\n"
   ]
  },
  {
   "cell_type": "code",
   "execution_count": null,
   "metadata": {
    "colab": {},
    "colab_type": "code",
    "id": "iZwQF2IpImvS"
   },
   "outputs": [],
   "source": [
    "variable_1 = 20\n",
    "variable_2 = 40\n",
    "variable_3 = False"
   ]
  },
  {
   "cell_type": "code",
   "execution_count": null,
   "metadata": {
    "colab": {},
    "colab_type": "code",
    "id": "PU_x9sH-Imz2"
   },
   "outputs": [],
   "source": [
    "# Comillas simples\n",
    "cadena_1 = f'Variable 1 es igual a {variable_1}'\n",
    "print(cadena_1)"
   ]
  },
  {
   "cell_type": "code",
   "execution_count": null,
   "metadata": {
    "colab": {},
    "colab_type": "code",
    "id": "7iVreyfUIm23"
   },
   "outputs": [],
   "source": [
    "# Comillas dobles\n",
    "cadena_2 = f\"Variable 2 es igual a {variable_2}\"\n",
    "print(cadena_2)"
   ]
  },
  {
   "cell_type": "code",
   "execution_count": null,
   "metadata": {
    "colab": {},
    "colab_type": "code",
    "id": "NUsVfiSOIm88"
   },
   "outputs": [],
   "source": [
    "# Comillas triples\n",
    "cadena_3 = f\"\"\" \n",
    "Voy a imprimir el valor de todas las variables :\n",
    "Variable 1 es igual a {variable_1}\n",
    "Variable 2 es igual a {variable_2}\n",
    "Variable 3 es igual a {variable_3}\n",
    "\n",
    "La suma de todas las variables 1 y 2 es {variable_1 + variable_2}\n",
    "\"\"\"\n",
    "print(cadena_3)"
   ]
  },
  {
   "cell_type": "markdown",
   "metadata": {
    "colab_type": "text",
    "id": "2m5JHfAVJryk"
   },
   "source": [
    "### Operadores con cadenas de texto"
   ]
  },
  {
   "cell_type": "markdown",
   "metadata": {
    "colab_type": "text",
    "id": "eswwQbldJwTx"
   },
   "source": [
    "La ***SUMA*** de dos cadenas da como resultado una cadena que es la union de ambas"
   ]
  },
  {
   "cell_type": "code",
   "execution_count": null,
   "metadata": {
    "colab": {},
    "colab_type": "code",
    "id": "raQ3TAhtIaV3"
   },
   "outputs": [],
   "source": [
    "cadena_1 = \"Hola como estas?\"\n",
    "cadena_2 = \"Mi nombre es Juan\""
   ]
  },
  {
   "cell_type": "code",
   "execution_count": null,
   "metadata": {
    "colab": {},
    "colab_type": "code",
    "id": "P6oHgoGnKDoJ"
   },
   "outputs": [],
   "source": [
    "print(cadena_1 + cadena_2)"
   ]
  },
  {
   "cell_type": "markdown",
   "metadata": {
    "colab_type": "text",
    "id": "Wv7wnxQTKHj_"
   },
   "source": [
    "La ***MULTIPLICACION*** de un numero con una cadena da como resultado una sola cadena que repite n veces la cadena donde n es el número por el cual multiplicamos."
   ]
  },
  {
   "cell_type": "code",
   "execution_count": null,
   "metadata": {
    "colab": {},
    "colab_type": "code",
    "id": "Sh29w-xhKpoL"
   },
   "outputs": [],
   "source": [
    "cadena_3 = \"Hola como estas?\""
   ]
  },
  {
   "cell_type": "code",
   "execution_count": null,
   "metadata": {
    "colab": {},
    "colab_type": "code",
    "id": "UK1AY9_pKt0X"
   },
   "outputs": [],
   "source": [
    "print(5 * cadena_3)"
   ]
  },
  {
   "cell_type": "markdown",
   "metadata": {},
   "source": [
    "## 4) IF Flujos de control"
   ]
  },
  {
   "cell_type": "markdown",
   "metadata": {},
   "source": [
    "La estructura de control if ... permite que un programa ejecute unas instrucciones cuando se cumplan una condición. En inglés \"if\" significa \"si\" (condición).\n",
    "\n",
    "La sintaxis de la condicional if es :\n",
    "```\n",
    "if condición:\n",
    "    aquí van las órdenes que se ejecutan si la condición es cierta\n",
    "    y que pueden ocupar varias líneas\n",
    "```"
   ]
  },
  {
   "cell_type": "code",
   "execution_count": null,
   "metadata": {},
   "outputs": [],
   "source": [
    "a = 20 \n",
    "if a < 20 :\n",
    "    print(\"la variable a es menor que 20\")\n",
    "    "
   ]
  },
  {
   "cell_type": "markdown",
   "metadata": {},
   "source": [
    "### if else\n",
    "```\n",
    "if condición:\n",
    "    aquí van las órdenes que se ejecutan si la condición es cierta\n",
    "    y que pueden ocupar varias líneas\n",
    "else:\n",
    "    y aquí van las órdenes que se ejecutan si la condición es\n",
    "    falsa y que también pueden ocupar varias líneas\n",
    "```"
   ]
  },
  {
   "cell_type": "code",
   "execution_count": null,
   "metadata": {},
   "outputs": [],
   "source": [
    "edad = 20\n",
    "nacionalidad = \"Bolivia\"\n",
    "\n",
    "if edad >= 18 and nacionalidad == \"Bolivia\" :\n",
    "    print(\"Es mayor de edad y cumple con la nacionalidad, usted puede votar en las elecciones\")\n",
    "else :\n",
    "    print(\"No cumple con las condiciones, usted no puede votar\")\n",
    "\n",
    "print(f\"Su edad es de {edad} y su nacionalidad es {nacionalidad}\")"
   ]
  },
  {
   "cell_type": "markdown",
   "metadata": {
    "colab_type": "text",
    "id": "mBjDZuNaK7ao",
    "toc-hr-collapsed": true,
    "toc-nb-collapsed": true
   },
   "source": [
    "## 5) Transformar tipos de datos."
   ]
  },
  {
   "cell_type": "markdown",
   "metadata": {
    "colab_type": "text",
    "id": "MyYx6fUoLBQO"
   },
   "source": [
    "Muchas veces vamos a querer transformar de un tipo de dato a otro para trabajar con los datos correctos es por eso que utilizaremos las siguientes funciones.\n",
    "\n",
    "\n",
    "*   int( )\n",
    "*   float( )\n",
    "*   bool( )\n",
    "*   str( )\n",
    "\n"
   ]
  },
  {
   "cell_type": "code",
   "execution_count": null,
   "metadata": {
    "colab": {},
    "colab_type": "code",
    "id": "8D7J-RKH7yey"
   },
   "outputs": [],
   "source": [
    "# int = enteros o numero enteros\n",
    "# float = numeros con decimales\n",
    "# bool = tipos de datos u objetos Verdadero o Falso\n",
    "# str = cadenas de texto"
   ]
  },
  {
   "cell_type": "markdown",
   "metadata": {
    "colab_type": "text",
    "id": "bqG35juML5m0"
   },
   "source": [
    "### **int** -> cualquier tipo"
   ]
  },
  {
   "cell_type": "code",
   "execution_count": null,
   "metadata": {
    "colab": {},
    "colab_type": "code",
    "id": "xwRU2ZaBMO6e"
   },
   "outputs": [],
   "source": [
    "variable_int = 30\n",
    "type(variable_int)"
   ]
  },
  {
   "cell_type": "markdown",
   "metadata": {
    "colab_type": "text",
    "id": "DUtJlxAROCrY"
   },
   "source": [
    "Estoy creando una variable llamada ***variable_int_prueba*** a continuación para poder almacenar las transformaciones realizadas a nuestra variable de tipo int y para poder verificar si realmente se pudo transformar a dicho valor"
   ]
  },
  {
   "cell_type": "markdown",
   "metadata": {
    "colab_type": "text",
    "id": "dNM8yNU-PKTG"
   },
   "source": [
    "**int -> float**:\n",
    "Solo añade un decimal .0 "
   ]
  },
  {
   "cell_type": "code",
   "execution_count": null,
   "metadata": {
    "colab": {},
    "colab_type": "code",
    "id": "22tOdb7n8_Ie"
   },
   "outputs": [],
   "source": [
    "variable_int_prueba = float(variable_int)\n",
    "# Verificamos si se transformo al tipo de dato\n",
    "print(\"El tipo al que se transformo es :\", type(variable_int_prueba))\n",
    "print(\"El valor se modifico a :\", variable_int_prueba)"
   ]
  },
  {
   "cell_type": "markdown",
   "metadata": {
    "colab_type": "text",
    "id": "vP4YG8mOPYNS"
   },
   "source": [
    "**int -> bool**:\n",
    "El valor que retorna solo es False si el entero es 0 en todos los demas casos sin importar si son positivos o negativos va a devolver True"
   ]
  },
  {
   "cell_type": "code",
   "execution_count": null,
   "metadata": {
    "colab": {},
    "colab_type": "code",
    "id": "1MVsQwzHOfjY"
   },
   "outputs": [],
   "source": [
    "variable_int_prueba = bool(variable_int)\n",
    "# Verificamos si se transformo al tipo de dato\n",
    "print(\"El tipo al que se transformo es :\", type(variable_int_prueba))\n",
    "print(\"El valor se modifico a :\", variable_int_prueba)"
   ]
  },
  {
   "cell_type": "markdown",
   "metadata": {
    "colab_type": "text",
    "id": "ODcBq4DXPwXP"
   },
   "source": [
    "**int -> str**:\n",
    "Simplemente añade comillas."
   ]
  },
  {
   "cell_type": "code",
   "execution_count": null,
   "metadata": {
    "colab": {},
    "colab_type": "code",
    "id": "Rl336HopO-Xd"
   },
   "outputs": [],
   "source": [
    "variable_int_prueba = str(variable_int)\n",
    "# Verificamos si se transformo al tipo de dato\n",
    "print(\"El tipo al que se transformo es :\", type(variable_int_prueba))\n",
    "print(\"El valor se modifico a :\", variable_int_prueba)"
   ]
  },
  {
   "cell_type": "markdown",
   "metadata": {
    "colab_type": "text",
    "id": "0W7sNAHBQbkZ"
   },
   "source": [
    "### **float** -> cualquier tipo"
   ]
  },
  {
   "cell_type": "code",
   "execution_count": null,
   "metadata": {
    "colab": {},
    "colab_type": "code",
    "id": "-somNmXIQa5K"
   },
   "outputs": [],
   "source": [
    "variable_float = 3.8\n",
    "type(variable_float)"
   ]
  },
  {
   "cell_type": "markdown",
   "metadata": {
    "colab_type": "text",
    "id": "bca6KcAXQjzK"
   },
   "source": [
    "Estoy creando una variable llamada ***variable_float_prueba*** a continuación para poder almacenar las transformaciones realizadas a nuestra variable de tipo float y para poder verificar si realmente se pudo transformar a dicho valor"
   ]
  },
  {
   "cell_type": "markdown",
   "metadata": {
    "colab_type": "text",
    "id": "Xv1ugr6TSAKV"
   },
   "source": [
    "**float -> int**:\n",
    "Solo toma la parte entera"
   ]
  },
  {
   "cell_type": "code",
   "execution_count": null,
   "metadata": {
    "colab": {},
    "colab_type": "code",
    "id": "KRF0GZy2SOnD"
   },
   "outputs": [],
   "source": [
    "variable_float_prueba = int(variable_float)\n",
    "# Verificamos si se transformo al tipo de dato\n",
    "print(\"El tipo al que se transformo es :\", type(variable_float_prueba))\n",
    "print(\"El valor se modifico a :\", variable_float_prueba)"
   ]
  },
  {
   "cell_type": "markdown",
   "metadata": {
    "colab_type": "text",
    "id": "9C81lw3ISASo"
   },
   "source": [
    "**float -> bool**:\n",
    "El valor que retorna solo es False si el decimal es 0.0 en todos los demas casos sin importar si son positivos o negativos va a devolver True"
   ]
  },
  {
   "cell_type": "code",
   "execution_count": null,
   "metadata": {
    "colab": {},
    "colab_type": "code",
    "id": "YtL4b7HDSPA4"
   },
   "outputs": [],
   "source": [
    "variable_float_prueba = bool(variable_float)\n",
    "# Verificamos si se transformo al tipo de dato\n",
    "print(\"El tipo al que se transformo es :\", type(variable_float_prueba))\n",
    "print(\"El valor se modifico a :\", variable_float_prueba)"
   ]
  },
  {
   "cell_type": "markdown",
   "metadata": {
    "colab_type": "text",
    "id": "jCmGvvVrSAZX"
   },
   "source": [
    "**float -> str**:\n",
    "Solo añade comillas y ya es una cadena de texto el numero decimal"
   ]
  },
  {
   "cell_type": "code",
   "execution_count": null,
   "metadata": {
    "colab": {},
    "colab_type": "code",
    "id": "uJqWDEXFSPcw"
   },
   "outputs": [],
   "source": [
    "variable_float_prueba = str(variable_float)\n",
    "# Verificamos si se transformo al tipo de dato\n",
    "print(\"El tipo al que se transformo es :\", type(variable_float_prueba))\n",
    "print(\"El valor se modifico a :\", variable_float_prueba)"
   ]
  },
  {
   "cell_type": "markdown",
   "metadata": {
    "colab_type": "text",
    "id": "j30UK35NTJtS"
   },
   "source": [
    "### **bool** -> cualquier tipo"
   ]
  },
  {
   "cell_type": "code",
   "execution_count": null,
   "metadata": {
    "colab": {},
    "colab_type": "code",
    "id": "JwqQYa23Qa8G"
   },
   "outputs": [],
   "source": [
    "variable_bool = True\n",
    "type(variable_bool)"
   ]
  },
  {
   "cell_type": "markdown",
   "metadata": {
    "colab_type": "text",
    "id": "PWujSv0xTy9a"
   },
   "source": [
    "Estoy creando una variable llamada ***variable_bool_prueba*** a continuacion para poder almacenar las transformaciones realizadas a nuestra variable de tipo bool y para poder verificar si realmente se pudo transformar a dicho valor"
   ]
  },
  {
   "cell_type": "markdown",
   "metadata": {
    "colab_type": "text",
    "id": "yciCw6T5UB2g"
   },
   "source": [
    "**bool -> int**:\n",
    "Si la variable es True se transforma a 1 y si es False se transforma el valor a 0"
   ]
  },
  {
   "cell_type": "code",
   "execution_count": null,
   "metadata": {
    "colab": {},
    "colab_type": "code",
    "id": "6J6o8ihYQa-b"
   },
   "outputs": [],
   "source": [
    "variable_bool_prueba = int(variable_bool)\n",
    "# Verificamos si se transformo al tipo de dato\n",
    "print(\"El tipo al que se transformo es :\", type(variable_bool_prueba))\n",
    "print(\"El valor se modifico a :\", variable_bool_prueba)"
   ]
  },
  {
   "cell_type": "markdown",
   "metadata": {
    "colab_type": "text",
    "id": "6h7KslAjUL1j"
   },
   "source": [
    "**bool -> float**:\n",
    "Si la variable es True se transforma a 1.0 y si es False se transforma el valor a 0.0"
   ]
  },
  {
   "cell_type": "code",
   "execution_count": null,
   "metadata": {
    "colab": {},
    "colab_type": "code",
    "id": "vj5HpzaMQbFW"
   },
   "outputs": [],
   "source": [
    "variable_bool_prueba = float(variable_bool)\n",
    "# Verificamos si se transformo al tipo de dato\n",
    "print(\"El tipo al que se transformo es :\", type(variable_bool_prueba))\n",
    "print(\"El valor se modifico a :\", variable_bool_prueba)"
   ]
  },
  {
   "cell_type": "markdown",
   "metadata": {
    "colab_type": "text",
    "id": "PRYzSH-AUKZC"
   },
   "source": [
    "**bool -> str**:\n",
    "Solo añade las comillas y se transforman en cadenas de texto."
   ]
  },
  {
   "cell_type": "code",
   "execution_count": null,
   "metadata": {
    "colab": {},
    "colab_type": "code",
    "id": "u_aFRdgjQbDW"
   },
   "outputs": [],
   "source": [
    "variable_bool_prueba = str(variable_bool)\n",
    "# Verificamos si se transformo al tipo de dato\n",
    "print(\"El tipo al que se transformo es :\", type(variable_bool_prueba))\n",
    "print(\"El valor se modifico a :\", variable_bool_prueba)"
   ]
  },
  {
   "cell_type": "markdown",
   "metadata": {
    "colab_type": "text",
    "id": "ute1S2NSVT-6"
   },
   "source": [
    "### **str** -> cualquier tipo"
   ]
  },
  {
   "cell_type": "code",
   "execution_count": null,
   "metadata": {
    "colab": {},
    "colab_type": "code",
    "id": "Tr68NS1PVZ_G"
   },
   "outputs": [],
   "source": [
    "# Puedes cambiar el valor de esta variable e ir ejecutando los codigos\n",
    "# de mas abajos, algunos dara error pues mucho depende de lo que hay\n",
    "# en la cadena .\n",
    "variable_str = \"Esto es un texto\"\n",
    "type(variable_str)"
   ]
  },
  {
   "cell_type": "markdown",
   "metadata": {
    "colab_type": "text",
    "id": "snh4kHrsVkoI"
   },
   "source": [
    "Estoy creando una variable llamada ***variable_str_prueba*** a continuación para poder almacenar las transformaciones realizadas a nuestra variable de tipo str y para poder verificar si realmente se pudo transformar a dicho valor."
   ]
  },
  {
   "cell_type": "markdown",
   "metadata": {
    "colab_type": "text",
    "id": "1kdxZxBzVsRU"
   },
   "source": [
    "**str -> int**:\n",
    "Si la cadena tiene letras entonces ocurrira un error porque no se pueden transformar texto a numeros.\n",
    "Si la cadena tiene numeros entonces transformamos correctamente a enteros"
   ]
  },
  {
   "cell_type": "code",
   "execution_count": null,
   "metadata": {
    "colab": {},
    "colab_type": "code",
    "id": "jgGRkHgJQbBp"
   },
   "outputs": [],
   "source": [
    "variable_str_prueba = int(variable_str)\n",
    "# Verificamos si se transformo al tipo de dato\n",
    "print(\"El tipo al que se transformo es :\", type(variable_str_prueba))\n",
    "print(\"El valor se modifico a :\", variable_str_prueba)"
   ]
  },
  {
   "cell_type": "markdown",
   "metadata": {
    "colab_type": "text",
    "id": "8KcADQ-sVvM-"
   },
   "source": [
    "**str -> float**:\n",
    "Si la cadena contiene letras entonces retornara un error.\n",
    "Si la cadena contiene nmeros entonces transformaremos correctamente a decimal "
   ]
  },
  {
   "cell_type": "code",
   "execution_count": null,
   "metadata": {
    "colab": {},
    "colab_type": "code",
    "id": "TRwcXs_mVwdV"
   },
   "outputs": [],
   "source": [
    "variable_str_prueba = float(variable_str)\n",
    "# Verificamos si se transformo al tipo de dato\n",
    "print(\"El tipo al que se transformo es :\", type(variable_str_prueba))\n",
    "print(\"El valor se modifico a :\", variable_str_prueba)"
   ]
  },
  {
   "cell_type": "markdown",
   "metadata": {
    "colab_type": "text",
    "id": "XQBKzIR8VvZV"
   },
   "source": [
    "**str -> bool**:\n",
    "Si la cadena tiene letras, espacios, números etc entonces se transformara a True.\n",
    "Si la cadena no tiene nada entonces retornara False."
   ]
  },
  {
   "cell_type": "code",
   "execution_count": null,
   "metadata": {
    "colab": {},
    "colab_type": "code",
    "id": "mrV6DYtTVw-E"
   },
   "outputs": [],
   "source": [
    "variable_str_prueba = bool(variable_str)\n",
    "# Verificamos si se transformo al tipo de dato\n",
    "print(\"El tipo al que se transformo es :\", type(variable_str_prueba))\n",
    "print(\"El valor se modifico a :\", variable_str_prueba)"
   ]
  },
  {
   "cell_type": "markdown",
   "metadata": {
    "colab_type": "text",
    "id": "4QsxTtJFXww6"
   },
   "source": [
    "### Algunos ejemplos para transformar el tipo de datos que se recibe de entrada de datos"
   ]
  },
  {
   "cell_type": "code",
   "execution_count": null,
   "metadata": {
    "colab": {},
    "colab_type": "code",
    "id": "x_7TbMji_Wmn"
   },
   "outputs": [],
   "source": [
    "# recibir datos de tipo entero\n",
    "nombre_completo = str(input(\"Escribe tu nombre completo:\"))\n",
    "edad = int(input(\"Escribe tu edad:\"))\n",
    "peso = float(input(\"Cual es tu peso\"))\n",
    "soltero = bool(input(\"Eres soltero?\"))"
   ]
  },
  {
   "cell_type": "code",
   "execution_count": null,
   "metadata": {
    "colab": {},
    "colab_type": "code",
    "id": "pZiv2j_XB-Dw"
   },
   "outputs": [],
   "source": [
    "print(f'nombre completo : {nombre_completo}{type(nombre_completo)}\\\n",
    "    \\n edad : {edad}{type(edad)}\\\n",
    "    \\n peso : {peso} {type(peso)}\\\n",
    "    \\n soltero : {soltero}{type(soltero)}'\n",
    ")\n",
    "# Tambien puedes intentarlo con un string de triple comillas "
   ]
  },
  {
   "cell_type": "code",
   "execution_count": null,
   "metadata": {},
   "outputs": [],
   "source": []
  },
  {
   "cell_type": "markdown",
   "metadata": {},
   "source": [
    "# Tipos de datos # 2"
   ]
  },
  {
   "cell_type": "markdown",
   "metadata": {},
   "source": [
    "Como continuacion hoy veremos los tipos de datos en python restantes que serian :\n",
    "*  Tuplas\n",
    "*  Conjuntos\n",
    "*  Listas\n",
    "*  Diccionarios"
   ]
  },
  {
   "cell_type": "markdown",
   "metadata": {},
   "source": [
    "## Tuplas\n",
    "En Python, una tupla es un conjunto ordenado de elementos del mismo o diferente tipo. Las tuplas se representan escribiendo los elementos entre paréntesis y separados por comas.\n",
    "\n",
    "```(1, 'a', 3.14)```"
   ]
  },
  {
   "cell_type": "code",
   "execution_count": null,
   "metadata": {},
   "outputs": [],
   "source": [
    "# Declarando una variable con una tupla\n",
    "mi_tupla = (2,3)\n",
    "print(mi_tupla)"
   ]
  },
  {
   "cell_type": "code",
   "execution_count": null,
   "metadata": {},
   "outputs": [],
   "source": [
    "# verificamos el tipo de dato\n",
    "type(mi_tupla)"
   ]
  },
  {
   "cell_type": "code",
   "execution_count": null,
   "metadata": {},
   "outputs": [],
   "source": [
    "# verificamos el tamaño de la tupla\n",
    "len(mi_tupla)"
   ]
  },
  {
   "cell_type": "code",
   "execution_count": null,
   "metadata": {},
   "outputs": [],
   "source": [
    "# Accede al elemento 0 de la tupla que seria el primer elemento\n",
    "mi_tupla[0]"
   ]
  },
  {
   "cell_type": "markdown",
   "metadata": {},
   "source": [
    "## Conjuntos\n",
    "Los conjuntos (\"set\") en Python es una estructura de datos equivalente a conjuntos en matemáticas. Puede consistir en varios elementos; El orden de los elementos en un conjunto no está definido. Puede agregar y eliminar elementos de un conjunto, puede iterar los elementos del conjunto, puede realizar operaciones estándar en conjuntos (unión, intersección, diferencia).\n",
    "\n",
    "Los conjuntos se representan escribiendo los elementos entre llaves y separados por comas.\n",
    "\n",
    "```{1, 2, 3, \"pepe\"}```"
   ]
  },
  {
   "cell_type": "code",
   "execution_count": null,
   "metadata": {},
   "outputs": [],
   "source": [
    "# Declarando una variable con un conjunto\n",
    "mi_conjunto = {1, 2, 3, \"pepe\"}\n",
    "print(mi_conjunto)"
   ]
  },
  {
   "cell_type": "code",
   "execution_count": null,
   "metadata": {},
   "outputs": [],
   "source": [
    "# verificamos el tipo de dato\n",
    "type(mi_conjunto)"
   ]
  },
  {
   "cell_type": "code",
   "execution_count": null,
   "metadata": {},
   "outputs": [],
   "source": [
    "# Añadir elementos al conjunto\n",
    "mi_conjunto.add(49)\n",
    "\n",
    "# Mostramos el conjunto\n",
    "print(mi_conjunto)"
   ]
  },
  {
   "cell_type": "code",
   "execution_count": null,
   "metadata": {},
   "outputs": [],
   "source": [
    "# Quitar elementos del conjunto\n",
    "mi_conjunto.discard('pepe')\n",
    "\n",
    "# Mostramos el conjunto\n",
    "print(mi_conjunto)"
   ]
  },
  {
   "cell_type": "markdown",
   "metadata": {},
   "source": [
    "### Operaciones con conjuntos\n",
    "<table border=\"1\" cellpadding=\"5\">\n",
    "\n",
    "<tbody><tr>\n",
    "<td>\n",
    "<div style=\"margin:5px; font-weight: bold;\">\n",
    "A | B\n",
    "<br>\n",
    "A.union(B)\n",
    "</div>\n",
    "</td>\n",
    "<td>\n",
    "<div style=\"margin:5px;\">\n",
    "Returns a set which is the union of sets <code>A</code> and <code>B</code>.\n",
    "</div>\n",
    "</td>\n",
    "</tr>\n",
    "\n",
    "<tr>\n",
    "<td>\n",
    "<div style=\"margin:5px; font-weight: bold;\">\n",
    "A |= B\n",
    "<br>\n",
    "A.update(B)\n",
    "</div>\n",
    "</td>\n",
    "<td>\n",
    "<div style=\"margin:5px;\"> \n",
    "Adds all elements of array <code>B</code> to the set <code>A</code>.\n",
    "</div>\n",
    "</td>\n",
    "</tr>\n",
    "\n",
    "\n",
    "<tr>\n",
    "<td>\n",
    "<div style=\"margin:5px; font-weight: bold;\">\n",
    "A &amp; B\n",
    "<br>\n",
    "A.intersection(B)\n",
    "</div>\n",
    "</td>\n",
    "<td>\n",
    "<div style=\"margin:5px;\">\n",
    "Returns a set which is the intersection of sets <code>A</code> and <code>B</code>.\n",
    "</div>\n",
    "</td>\n",
    "</tr>\n",
    "\n",
    "<tr>\n",
    "<td>\n",
    "<div style=\"margin:5px; font-weight: bold;\">\n",
    "A &amp;= B\n",
    "<br>\n",
    "A.intersection_update(B)\n",
    "</div>\n",
    "</td>\n",
    "<td>\n",
    "<div style=\"margin:5px;\">\n",
    "Leaves in the set <code>A</code> only items that belong to the set <code>B</code>.\n",
    "</div></td>\n",
    "</tr>\n",
    "\n",
    "<tr>\n",
    "<td>\n",
    "<div style=\"margin:5px; font-weight: bold;\">\n",
    "A - B\n",
    "<br>\n",
    "A.difference(B)\n",
    "</div>\n",
    "</td>\n",
    "<td>\n",
    "<div style=\"margin:5px;\"> \n",
    "Returns the set difference of <code>A</code> and <code>B</code> (the elements included in <code>A</code>,\n",
    "but not included in <code>B</code>).\n",
    "</div>\n",
    "</td>\n",
    "</tr>\n",
    "\n",
    "<tr>\n",
    "<td>\n",
    "<div style=\"margin:5px; font-weight: bold;\">\n",
    "A -= B\n",
    "<br>\n",
    "A.difference_update(B)\n",
    "</div>\n",
    "</td>\n",
    "<td>\n",
    "<div style=\"margin:5px;\"> \n",
    "Removes all elements of <code>B</code> from the set <code>A</code>.\n",
    "</div>\n",
    "</td>\n",
    "</tr>\n",
    "\n",
    "<tr>\n",
    "<td>\n",
    "<div style=\"margin:5px; font-weight: bold;\">\n",
    "A ^ B\n",
    "<br>\n",
    "A.symmetric_difference(B)\n",
    "</div>\n",
    "</td>\n",
    "<td>\n",
    "<div style=\"margin:5px;\"> \n",
    "Returns the symmetric difference of sets <code>A</code> and <code>B</code> (the elements belonging to either <code>A</code>\n",
    "or <code>B</code>, but not to both sets simultaneously).\n",
    "</div>\n",
    "</td>\n",
    "</tr>\n",
    "\n",
    "<tr>\n",
    "<td>\n",
    "<div style=\"margin:5px; font-weight: bold;\">\n",
    "A ^= B\n",
    "<br>\n",
    "A.symmetric_difference_update(B)\n",
    "</div>\n",
    "</td>\n",
    "<td>\n",
    "<div style=\"margin:5px;\"> \n",
    "Writes in <code>A</code> the symmetric difference of sets <code>A</code> and <code>B</code>.\n",
    "</div>\n",
    "</td>\n",
    "</tr>\n",
    "\n",
    "<tr>\n",
    "<td>\n",
    "<div style=\"margin:5px; font-weight: bold;\">\n",
    "A &lt;= B\n",
    "<br>\n",
    "A.issubset(B)\n",
    "</div>\n",
    "</td>\n",
    "<td>\n",
    "<div style=\"margin:5px;\"> \n",
    "Returns <code>true</code> if <code>A</code> is a subset of <code>B</code>.\n",
    "</div>\n",
    "</td>\n",
    "</tr>\n",
    "\n",
    "\n",
    "<tr>\n",
    "<td>\n",
    "<div style=\"margin:5px; font-weight: bold;\">\n",
    "A &gt;= B\n",
    "<br>\n",
    "A.issuperset(B)\n",
    "</div>\n",
    "</td>\n",
    "<td>\n",
    "<div style=\"margin:5px;\">\n",
    "Returns <code>true</code> if <code>B</code> is a subset of <code>A</code>.\n",
    "</div>\n",
    "</td>\n",
    "</tr>\n",
    "\n",
    "<tr>\n",
    "<td>\n",
    "<div style=\"margin:5px; font-weight: bold;\">\n",
    "A &lt; B\n",
    "</div>\n",
    "</td>\n",
    "<td>\n",
    "<div style=\"margin:5px;\"> \n",
    "Equivalent to <code>A &lt;= B and A != B</code>\n",
    "</div>\n",
    "</td>\n",
    "</tr>\n",
    "\n",
    "\n",
    "<tr>\n",
    "<td>\n",
    "<div style=\"margin:5px; font-weight: bold;\">\n",
    "A &gt; B\n",
    "</div>\n",
    "</td>\n",
    "<td>\n",
    "<div style=\"margin:5px;\"> \n",
    "Equivalent to <code>A &gt;= B and A != B</code>\n",
    "</div>\n",
    "</td>\n",
    "</tr>\n",
    "\n",
    "</tbody></table>"
   ]
  },
  {
   "cell_type": "markdown",
   "metadata": {},
   "source": [
    "## Listas\n",
    "Una lista es una estructura de datos y un tipo de dato en python con características especiales. Lo especial de las listas en Python es que nos permiten almacenar cualquier tipo de valor como enteros, cadenas y hasta otras funciones.\n",
    "\n",
    "Las listas se representan escribiendo los elementos entre corchetes y separados por comas.\n",
    "\n",
    "```[2, \"hola\", (7,8), {23,\"pepe\"}]```"
   ]
  },
  {
   "cell_type": "code",
   "execution_count": null,
   "metadata": {},
   "outputs": [],
   "source": [
    "# Declarando una variable con una lista\n",
    "mi_lista = [2, \"hola\", (7,8), {23,\"pepe\"}]\n",
    "print(mi_lista)"
   ]
  },
  {
   "cell_type": "code",
   "execution_count": null,
   "metadata": {},
   "outputs": [],
   "source": [
    "# verificamos el tipo de dato\n",
    "type(mi_lista)"
   ]
  },
  {
   "cell_type": "code",
   "execution_count": null,
   "metadata": {},
   "outputs": [],
   "source": [
    "# Añadimos elementos a la lista\n",
    "mi_lista.append(3)\n",
    "\n",
    "# Mostramos la lista\n",
    "print(mi_lista)"
   ]
  },
  {
   "cell_type": "code",
   "execution_count": null,
   "metadata": {},
   "outputs": [],
   "source": [
    "# Eliminar elementos de una lista por su posicion\n",
    "mi_lista.pop(0)\n",
    "print(mi_lista)"
   ]
  },
  {
   "cell_type": "code",
   "execution_count": null,
   "metadata": {},
   "outputs": [],
   "source": [
    "# Eliminar elementos de una lista por su valor\n",
    "mi_lista.remove('hola')\n",
    "print(mi_lista)"
   ]
  },
  {
   "cell_type": "markdown",
   "metadata": {},
   "source": [
    "### Operaciones con listas\n",
    "<table border=\"1\" cellpadding=\"5\">\n",
    "<tbody>\n",
    "    <tr>\n",
    "<td>\n",
    "<div style=\"margin:5px; font-weight: bold;\">\n",
    "x in A\n",
    "</div>\n",
    "</td>\n",
    "<td>\n",
    "<div style=\"margin:5px;\"> \n",
    "Comprueba si un elemento esta en la lista. Devuelve verdadero o falso\n",
    "</div>\n",
    "</td>\n",
    "</tr>\n",
    "\n",
    "\n",
    "<tr>\n",
    "<td>\n",
    "<div style=\"margin:5px; font-weight: bold;\">\n",
    "x not in A\n",
    "</div>\n",
    "</td>\n",
    "<td>\n",
    "<div style=\"margin:5px;\"> \n",
    "Lo mismo pero negando not(x in A)\n",
    "</div>\n",
    "</td>\n",
    "</tr>\n",
    "\n",
    "\n",
    "<tr>\n",
    "<td>\n",
    "<div style=\"margin:5px; font-weight: bold;\">\n",
    "min(A)\n",
    "</div>\n",
    "</td>\n",
    "<td>\n",
    "<div style=\"margin:5px;\"> \n",
    "El elemento mas pequeño de la lista\n",
    "</div>\n",
    "</td>\n",
    "</tr>\n",
    "\n",
    "\n",
    "<tr>\n",
    "<td>\n",
    "<div style=\"margin:5px; font-weight: bold;\">\n",
    "max(A)\n",
    "</div>\n",
    "</td>\n",
    "<td>\n",
    "<div style=\"margin:5px;\"> \n",
    "El elemento mas grande de la lista\n",
    "</div>\n",
    "</td>\n",
    "</tr>\n",
    "\n",
    "<tr>\n",
    "<td>\n",
    "<div style=\"margin:5px; font-weight: bold;\">\n",
    "A.index(x)\n",
    "</div>\n",
    "</td>\n",
    "<td>\n",
    "<div style=\"margin:5px;\"> \n",
    "El índice de la primera aparición del elemento x en la lista; en su ausencia genera una excepción ValueError\n",
    "</div>\n",
    "</td>\n",
    "</tr>\n",
    "\n",
    "\n",
    "<tr>\n",
    "<td>\n",
    "<div style=\"margin:5px; font-weight: bold;\">\n",
    "A.count(x)\n",
    "</div>\n",
    "</td>\n",
    "<td>\n",
    "<div style=\"margin:5px;\"> \n",
    "El número de ocurrencias del elemento x en la lista\n",
    "</div>\n",
    "</td>\n",
    "</tr>\n",
    "\n",
    "</tbody>\n",
    "</table>"
   ]
  },
  {
   "cell_type": "markdown",
   "metadata": {},
   "source": [
    "## Diccionarios\n",
    "Un Diccionario es una estructura de datos y un tipo de dato en Python con características especiales que nos permite almacenar cualquier tipo de valor como enteros, cadenas, listas, etc.   Estos diccionarios además nos permiten identificar cada elemento por una clave (Key).\n",
    "\n",
    "Los diccionarios se representan escribiendo los sus claves y valor entre llaves.\n",
    "\n",
    "```{'nombre' : 'Carlos', 'edad' : 24, 'habilidades': ['Vender','Programar'] }```"
   ]
  },
  {
   "cell_type": "code",
   "execution_count": null,
   "metadata": {},
   "outputs": [],
   "source": [
    "# Declaramos una variable con el tipo diccionario\n",
    "mi_diccionario = {'nombre' : 'Carlos', 'edad' : 24, 'habilidades': ['Vender','Programar'] }\n",
    "print(mi_diccionario)"
   ]
  },
  {
   "cell_type": "code",
   "execution_count": null,
   "metadata": {},
   "outputs": [],
   "source": [
    "# Verificamos el tipo de dato\n",
    "type(mi_diccionario)"
   ]
  },
  {
   "cell_type": "code",
   "execution_count": null,
   "metadata": {},
   "outputs": [],
   "source": [
    "# Añadimos elementos al diccionario\n",
    "mi_diccionario['apellido'] = 'Rojas'\n",
    "\n",
    "# Mostramos el diccionario\n",
    "print(mi_diccionario)"
   ]
  },
  {
   "cell_type": "code",
   "execution_count": null,
   "metadata": {},
   "outputs": [],
   "source": [
    "# Eliminamos elementos de un diccionario especificando su clave\n",
    "mi_diccionario.pop('habilidades')\n",
    "print(mi_lista)"
   ]
  },
  {
   "cell_type": "code",
   "execution_count": null,
   "metadata": {},
   "outputs": [],
   "source": [
    "# Obetenemos valores del diccionario\n",
    "edad = mi_diccionario.get('edad')\n",
    "print(edad)"
   ]
  },
  {
   "cell_type": "markdown",
   "metadata": {},
   "source": [
    "## Bucle For\n",
    "En general, un bucle es una estructura de control que repite un bloque de instrucciones. Un bucle for es un bucle que repite el bloque de instrucciones un número prederminado de veces. El bloque de instrucciones que se repite se suele llamar cuerpo del bucle y cada repetición se suele llamar iteración.\n",
    "\n",
    "La sintaxis de un bucle for es la siguiente:\n",
    "```\n",
    "for variable in ElementoIterable (lista, cadena, range, etc.):\n",
    "    cuerpo del bucle\n",
    "```"
   ]
  },
  {
   "cell_type": "code",
   "execution_count": null,
   "metadata": {},
   "outputs": [],
   "source": [
    "print(\"Comienzo\")\n",
    "a = 1\n",
    "b = 29\n",
    "for i in [0, 1, 2, \"pepe\"]:\n",
    "    print(\"i es igual a \", i)   \n",
    "    \n",
    "print(a + b)\n",
    "\n",
    "print(\"Final\")"
   ]
  },
  {
   "cell_type": "markdown",
   "metadata": {},
   "source": [
    "## Bucle while\n",
    "Un bucle while permite repetir la ejecución de un grupo de instrucciones mientras se cumpla una condición (es decir, mientras la condición tenga el valor True).\n",
    "\n",
    "La sintaxis del bucle while es la siguiente:\n",
    "\n",
    "```\n",
    "while condicion:\n",
    "    cuerpo del bucle\n",
    "```"
   ]
  },
  {
   "cell_type": "code",
   "execution_count": null,
   "metadata": {},
   "outputs": [],
   "source": [
    "i = 1\n",
    "while i <= 3:\n",
    "    print(i)\n",
    "    i = i + 1\n",
    "    \n",
    "print(\"Programa terminado\")"
   ]
  }
 ],
 "metadata": {
  "colab": {
   "collapsed_sections": [],
   "name": "Introduccion_python.ipynb",
   "private_outputs": true,
   "provenance": []
  },
  "kernelspec": {
   "display_name": "Python 3",
   "language": "python",
   "name": "python3"
  },
  "language_info": {
   "codemirror_mode": {
    "name": "ipython",
    "version": 3
   },
   "file_extension": ".py",
   "mimetype": "text/x-python",
   "name": "python",
   "nbconvert_exporter": "python",
   "pygments_lexer": "ipython3",
   "version": "3.7.6"
  },
  "toc-autonumbering": true,
  "toc-showcode": false
 },
 "nbformat": 4,
 "nbformat_minor": 4
}
